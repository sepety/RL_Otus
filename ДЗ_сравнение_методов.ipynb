{
  "nbformat": 4,
  "nbformat_minor": 0,
  "metadata": {
    "colab": {
      "provenance": []
    },
    "kernelspec": {
      "name": "python3",
      "display_name": "Python 3"
    },
    "language_info": {
      "name": "python"
    }
  },
  "cells": [
    {
      "cell_type": "code",
      "execution_count": 20,
      "metadata": {
        "id": "TdY5uJMie6Av"
      },
      "outputs": [],
      "source": [
        "%%capture\n",
        "!pip install gymnasium pygame -q\n",
        "!git clone https://github.com/MattChanTK/gym-maze.git\n",
        "!cd gym-maze && python3 setup.py install"
      ]
    },
    {
      "cell_type": "code",
      "source": [
        "import numpy as np\n",
        "from tqdm import tqdm\n",
        "import matplotlib.pyplot as plt\n",
        "\n",
        "import gymnasium as gym\n",
        "\n",
        "import warnings\n",
        "warnings.filterwarnings('ignore')"
      ],
      "metadata": {
        "id": "4YbZUSv0fzEQ"
      },
      "execution_count": null,
      "outputs": []
    },
    {
      "cell_type": "code",
      "source": [
        "gym.__version__"
      ],
      "metadata": {
        "colab": {
          "base_uri": "https://localhost:8080/",
          "height": 35
        },
        "id": "6Zja-TxWf2LP",
        "outputId": "fa4b3e69-559a-4a85-cb4e-705f86b4f14e"
      },
      "execution_count": 21,
      "outputs": [
        {
          "output_type": "execute_result",
          "data": {
            "text/plain": [
              "'1.0.0'"
            ],
            "application/vnd.google.colaboratory.intrinsic+json": {
              "type": "string"
            }
          },
          "metadata": {},
          "execution_count": 21
        }
      ]
    },
    {
      "cell_type": "markdown",
      "source": [
        "Среда Taxi-v3 представляет собой квадратную сетку, в которой такси должно забрать пассажира в одном месте и высадить его в другом месте. Цель агента — научиться перемещаться по сетке наиболее эффективным способом для выполнения этой задачи.\n",
        "\n",
        "Состояния: Всего 500 возможных состояний, определяемых позицией такси, местоположением пассажира и пунктом назначения.\n",
        "Действия: 6 возможных действий:\n",
        "0: движение на юг\n",
        "1: движение на север\n",
        "2: движение на восток\n",
        "3: движение на запад\n",
        "4: забрать пассажира\n",
        "5: высадить пассажира\n",
        "Награды:\n",
        "За каждое действие: -1\n",
        "За попытку незаконной посадки/высадки пассажира: -10\n",
        "За успешную высадку пассажира: +20"
      ],
      "metadata": {
        "id": "CH_IX88l2Bzu"
      }
    },
    {
      "cell_type": "markdown",
      "source": [],
      "metadata": {
        "id": "z95wkRw12QyR"
      }
    },
    {
      "cell_type": "code",
      "source": [
        "# Создание среды Taxi-v3\n",
        "env = gym.make(\"Taxi-v3\")"
      ],
      "metadata": {
        "id": "4IhsF5ld2Jii"
      },
      "execution_count": 22,
      "outputs": []
    },
    {
      "cell_type": "code",
      "source": [
        "# Получение размеров пространства состояний и действий\n",
        "state_space_size = env.observation_space.n  # Количество состояний (500)\n",
        "action_space_size = env.action_space.n      # Количество действий (6)\n"
      ],
      "metadata": {
        "id": "gkfge_902VTo"
      },
      "execution_count": 23,
      "outputs": []
    },
    {
      "cell_type": "code",
      "source": [
        "# Инициализация Q-таблицы нулями\n",
        "q_table = np.zeros((state_space_size, action_space_size))\n"
      ],
      "metadata": {
        "id": "Tsam-7ti2ZX4"
      },
      "execution_count": 24,
      "outputs": []
    },
    {
      "cell_type": "code",
      "source": [
        "print(f\"Размерность Q-таблицы: {q_table.shape}\")"
      ],
      "metadata": {
        "colab": {
          "base_uri": "https://localhost:8080/"
        },
        "id": "2dHbLk-Q2cQR",
        "outputId": "f12e72fa-6eee-4bde-d83e-ad9a36bc8837"
      },
      "execution_count": 25,
      "outputs": [
        {
          "output_type": "stream",
          "name": "stdout",
          "text": [
            "Размерность Q-таблицы: (500, 6)\n"
          ]
        }
      ]
    },
    {
      "cell_type": "markdown",
      "source": [
        "**Определение гиперпараметров**"
      ],
      "metadata": {
        "id": "3q37xe2z28f2"
      }
    },
    {
      "cell_type": "markdown",
      "source": [
        "alpha (скорость обучения): Определяет, насколько новые знания будут влиять на существующие знания. Значение от 0 до 1.\n",
        "gamma (коэффициент дисконтирования): Определяет важность будущих наград. Значение от 0 до 1.\n",
        "epsilon (ε) для ε-жадной стратегии: Используется для баланса между исследованием и использованием известных знаний."
      ],
      "metadata": {
        "id": "ID3uVCcD28Xv"
      }
    },
    {
      "cell_type": "code",
      "source": [
        "# Гиперпараметры\n",
        "alpha = 0.1        # Скорость обучения\n",
        "gamma = 0.99       # Коэффициент дисконтирования\n",
        "epsilon = 1.0      # Начальное значение ε для ε-жадной стратегии\n",
        "max_epsilon = 1.0  # Максимальное значение ε\n",
        "min_epsilon = 0.01 # Минимальное значение ε\n",
        "epsilon_decay = 0.9995  # Скорость уменьшения ε\n",
        "episodes = 10000   # Количество эпизодов для обучения\n",
        "max_steps_per_episode = 100  # Максимальное количество шагов в эпизоде\n"
      ],
      "metadata": {
        "id": "q9CcDOcz20jS"
      },
      "execution_count": 26,
      "outputs": []
    },
    {
      "cell_type": "markdown",
      "source": [
        "**Реализация ε-жадной стратегии**\n"
      ],
      "metadata": {
        "id": "1NVps86_3Ozr"
      }
    },
    {
      "cell_type": "markdown",
      "source": [
        "Для обеспечения баланса между исследованием среды и использованием накопленных знаний мы используем ε-жадную стратегию:\n",
        "\n",
        "С вероятностью ε: выбираем случайное действие (исследование).\n",
        "С вероятностью (1 - ε): выбираем действие с наибольшим Q-значением (использование)."
      ],
      "metadata": {
        "id": "NK7h6ziC3XZ8"
      }
    },
    {
      "cell_type": "code",
      "source": [
        "# Список для хранения суммарных наград за каждый эпизод\n",
        "rewards_all_episodes = []\n"
      ],
      "metadata": {
        "id": "5pkDBlZD3LWA"
      },
      "execution_count": 27,
      "outputs": []
    },
    {
      "cell_type": "code",
      "source": [
        "import random"
      ],
      "metadata": {
        "id": "PQKEqvc14IjD"
      },
      "execution_count": 28,
      "outputs": []
    },
    {
      "cell_type": "code",
      "source": [
        "# Цикл обучения\n",
        "for episode in tqdm(range(episodes)):\n",
        "    # Сброс среды в начале каждого эпизода\n",
        "    state, _ = env.reset()####!!!!!!! обязательно\n",
        "    done = False\n",
        "    total_rewards = 0\n",
        "\n",
        "    for step in range(max_steps_per_episode):\n",
        "        # Принятие действия на основе ε-жадной стратегии\n",
        "        if random.uniform(0, 1) < epsilon:\n",
        "            action = env.action_space.sample()  # Случайное действие (исследование)\n",
        "        else:\n",
        "            action = np.argmax(q_table[state, :])  # Действие с максимальным Q-значением (использование)\n",
        "\n",
        "        # Выполнение действия и получение нового состояния и награды\n",
        "        new_state, reward, done, truncated, info = env.step(action)\n",
        "\n",
        "        # Обновление Q-таблицы по формуле Q-learning\n",
        "        q_table[state, action] = q_table[state, action] + alpha * (reward + gamma * np.max(q_table[new_state, :]) - q_table[state, action])\n",
        "\n",
        "        # Переход в новое состояние\n",
        "        state = new_state\n",
        "\n",
        "        # Суммирование полученной награды\n",
        "        total_rewards += reward\n",
        "\n",
        "        # Если эпизод завершен, выходим из цикла\n",
        "        if done or truncated:\n",
        "            break\n",
        "\n",
        "    # Снижение ε после каждого эпизода\n",
        "    epsilon = max(min_epsilon, epsilon * epsilon_decay)\n",
        "\n",
        "    # Сохранение суммарной награды за эпизод\n",
        "    rewards_all_episodes.append(total_rewards)"
      ],
      "metadata": {
        "colab": {
          "base_uri": "https://localhost:8080/"
        },
        "id": "GUyJMMl53jZe",
        "outputId": "b165160d-5862-491c-e373-256324c7a3dd"
      },
      "execution_count": 29,
      "outputs": [
        {
          "output_type": "stream",
          "name": "stderr",
          "text": [
            "100%|██████████| 10000/10000 [00:13<00:00, 766.93it/s]\n"
          ]
        }
      ]
    },
    {
      "cell_type": "markdown",
      "source": [
        "Объяснение шагов цикла обучения:"
      ],
      "metadata": {
        "id": "cfg3_NAe3LAw"
      }
    },
    {
      "cell_type": "markdown",
      "source": [
        "Инициализация: В начале каждого эпизода мы сбрасываем состояние среды и переменные."
      ],
      "metadata": {
        "id": "qgckNGGg6SIV"
      }
    },
    {
      "cell_type": "markdown",
      "source": [
        "Выбор действия: Используя ε-жадную стратегию, выбираем действие."
      ],
      "metadata": {
        "id": "kRue648l6VKH"
      }
    },
    {
      "cell_type": "markdown",
      "source": [
        "Выполнение действия: Совершаем действие в среде и получаем новое состояние и награду."
      ],
      "metadata": {
        "id": "9dql_2U26ZED"
      }
    },
    {
      "cell_type": "markdown",
      "source": [
        "Обновление Q-таблицы: Используем формулу обновления Q-learning для обновления значений в Q-таблице."
      ],
      "metadata": {
        "id": "LH2Yn4ZS6brg"
      }
    },
    {
      "cell_type": "markdown",
      "source": [
        "Переход в новое состояние: Обновляем текущее состояние для следующей итерации."
      ],
      "metadata": {
        "id": "d60-T-IX6emg"
      }
    },
    {
      "cell_type": "markdown",
      "source": [
        "Накопление награды: Суммируем награды, полученные в эпизоде."
      ],
      "metadata": {
        "id": "lSS3rO846jMX"
      }
    },
    {
      "cell_type": "markdown",
      "source": [
        "Проверка завершения эпизода: Если эпизод завершен, выходим из внутреннего цикла."
      ],
      "metadata": {
        "id": "3jHTTtcV6mzP"
      }
    },
    {
      "cell_type": "markdown",
      "source": [
        "Обновление ε: Снижаем значение ε для уменьшения степени исследования по мере обучения.\n"
      ],
      "metadata": {
        "id": "-O7ZeKZs6pzw"
      }
    },
    {
      "cell_type": "markdown",
      "source": [
        "**Анализ результатов обучения**"
      ],
      "metadata": {
        "id": "YK7ffM_g6s53"
      }
    },
    {
      "cell_type": "markdown",
      "source": [
        "Вычисление средней награды за каждую тысячу эпизодов"
      ],
      "metadata": {
        "id": "hXSg2uo16zJW"
      }
    },
    {
      "cell_type": "markdown",
      "source": [],
      "metadata": {
        "id": "VWvcyIH4653P"
      }
    },
    {
      "cell_type": "code",
      "source": [
        "# Разбиваем награды на группы по 1000 эпизодов\n",
        "rewards_per_thousand_episodes = np.split(np.array(rewards_all_episodes), episodes / 1000)\n",
        "\n",
        "count = 1000\n",
        "print(\"Средняя награда за каждую тысячу эпизодов:\\n\")\n",
        "for r in rewards_per_thousand_episodes:\n",
        "    print(f\"Эпизоды {count - 999}–{count}: средняя награда = {np.mean(r):.2f}\")\n",
        "    count += 1000\n"
      ],
      "metadata": {
        "colab": {
          "base_uri": "https://localhost:8080/"
        },
        "id": "MMjBNTuD7C7P",
        "outputId": "87a7fb36-c030-48a4-934d-4df81ad71138"
      },
      "execution_count": 30,
      "outputs": [
        {
          "output_type": "stream",
          "name": "stdout",
          "text": [
            "Средняя награда за каждую тысячу эпизодов:\n",
            "\n",
            "Эпизоды 1–1000: средняя награда = -308.08\n",
            "Эпизоды 1001–2000: средняя награда = -95.00\n",
            "Эпизоды 2001–3000: средняя награда = -15.10\n",
            "Эпизоды 3001–4000: средняя награда = -2.83\n",
            "Эпизоды 4001–5000: средняя награда = 1.92\n",
            "Эпизоды 5001–6000: средняя награда = 4.15\n",
            "Эпизоды 6001–7000: средняя награда = 5.99\n",
            "Эпизоды 7001–8000: средняя награда = 6.75\n",
            "Эпизоды 8001–9000: средняя награда = 7.27\n",
            "Эпизоды 9001–10000: средняя награда = 7.40\n"
          ]
        }
      ]
    },
    {
      "cell_type": "markdown",
      "source": [
        "Вычисление средней награды за последние 100 эпизодов\n"
      ],
      "metadata": {
        "id": "7AWS_jvU7Xpv"
      }
    },
    {
      "cell_type": "code",
      "source": [
        "# Средняя награда за последние 100 эпизодов\n",
        "last_100_rewards = rewards_all_episodes[-100:]\n",
        "average_last_100 = np.mean(last_100_rewards)\n",
        "print(f\"\\nСредняя награда за последние 100 эпизодов: {average_last_100:.2f}\")\n"
      ],
      "metadata": {
        "colab": {
          "base_uri": "https://localhost:8080/"
        },
        "id": "amrpFI6c7YPU",
        "outputId": "9754c808-3376-4150-f424-8062e23c5bca"
      },
      "execution_count": 31,
      "outputs": [
        {
          "output_type": "stream",
          "name": "stdout",
          "text": [
            "\n",
            "Средняя награда за последние 100 эпизодов: 7.88\n"
          ]
        }
      ]
    },
    {
      "cell_type": "markdown",
      "source": [
        "Построение графика суммарных наград"
      ],
      "metadata": {
        "id": "dbhAoini7hfu"
      }
    },
    {
      "cell_type": "code",
      "source": [
        "# Построение графика суммарных наград за все эпизоды\n",
        "plt.plot(rewards_all_episodes)\n",
        "plt.xlabel('Эпизод')\n",
        "plt.ylabel('Суммарная награда')\n",
        "plt.title('Суммарная награда за эпизод')\n",
        "plt.show()\n"
      ],
      "metadata": {
        "colab": {
          "base_uri": "https://localhost:8080/",
          "height": 472
        },
        "id": "NJ_bjWzn7iFU",
        "outputId": "68de1e9f-4c8c-4edb-a9e7-f50749e6426b"
      },
      "execution_count": 32,
      "outputs": [
        {
          "output_type": "display_data",
          "data": {
            "text/plain": [
              "<Figure size 640x480 with 1 Axes>"
            ],
            "image/png": "[encoded data removed]"
          },
          "metadata": {}
        }
      ]
    },
    {
      "cell_type": "markdown",
      "source": [
        "Построение графика средней награды с окном скользящего среднего"
      ],
      "metadata": {
        "id": "ySmqeRSW7242"
      }
    },
    {
      "cell_type": "code",
      "source": [
        "# Вычисление скользящего среднего\n",
        "window_size = 100\n",
        "moving_avg = np.convolve(rewards_all_episodes, np.ones(window_size)/window_size, mode='valid')\n",
        "\n",
        "# Построение графика скользящего среднего\n",
        "plt.plot(moving_avg)\n",
        "plt.xlabel('Эпизод')\n",
        "plt.ylabel('Средняя суммарная награда')\n",
        "plt.title('Средняя суммарная награда (окно = 100 эпизодов)')\n",
        "plt.show()\n"
      ],
      "metadata": {
        "colab": {
          "base_uri": "https://localhost:8080/",
          "height": 472
        },
        "id": "aICcMUP277Qw",
        "outputId": "c91d3561-5190-4669-eb9f-2da55c5bf4dc"
      },
      "execution_count": 33,
      "outputs": [
        {
          "output_type": "display_data",
          "data": {
            "text/plain": [
              "<Figure size 640x480 with 1 Axes>"
            ],
            "image/png": "[encoded data removed]"
          },
          "metadata": {}
        }
      ]
    },
    {
      "cell_type": "markdown",
      "source": [
        "**Оценка обученного агента**"
      ],
      "metadata": {
        "id": "Mv6pScYF_1nE"
      }
    },
    {
      "cell_type": "code",
      "source": [
        "# Устанавливаем ε = 0 для отключения исследования\n",
        "epsilon = 0.0\n",
        "\n",
        "# Количество эпизодов для тестирования\n",
        "test_episodes = 10\n",
        "\n",
        "for episode in range(test_episodes):\n",
        "    state, _ = env.reset()\n",
        "    done = False\n",
        "    total_rewards = 0\n",
        "    steps = 0\n",
        "\n",
        "    while not done:\n",
        "        # Выбираем действие с наибольшим Q-значением\n",
        "        action = np.argmax(q_table[state, :])\n",
        "\n",
        "        # Выполняем действие и получаем новое состояние и награду\n",
        "        new_state, reward, done, truncated, info = env.step(action)\n",
        "\n",
        "        # Переходим в новое состояние\n",
        "        state = new_state\n",
        "\n",
        "        # Суммируем награды\n",
        "        total_rewards += reward\n",
        "        steps += 1\n",
        "\n",
        "        if done or truncated:\n",
        "            print(f\"Эпизод {episode+1}: Суммарная награда = {total_rewards}, Шаги = {steps}\")\n",
        "            break\n",
        "\n",
        "    # Визуализация последнего эпизода\n",
        "    if episode == test_episodes - 1:\n",
        "        env.render()\n"
      ],
      "metadata": {
        "colab": {
          "base_uri": "https://localhost:8080/"
        },
        "id": "GMFNxg1K_348",
        "outputId": "33b02fde-e3e3-4a1f-8627-6307a3dec151"
      },
      "execution_count": 34,
      "outputs": [
        {
          "output_type": "stream",
          "name": "stdout",
          "text": [
            "Эпизод 1: Суммарная награда = 8, Шаги = 13\n",
            "Эпизод 2: Суммарная награда = 9, Шаги = 12\n",
            "Эпизод 3: Суммарная награда = 7, Шаги = 14\n",
            "Эпизод 4: Суммарная награда = 9, Шаги = 12\n",
            "Эпизод 5: Суммарная награда = 7, Шаги = 14\n",
            "Эпизод 6: Суммарная награда = 10, Шаги = 11\n",
            "Эпизод 7: Суммарная награда = 7, Шаги = 14\n",
            "Эпизод 8: Суммарная награда = 7, Шаги = 14\n",
            "Эпизод 9: Суммарная награда = 8, Шаги = 13\n",
            "Эпизод 10: Суммарная награда = 7, Шаги = 14\n"
          ]
        }
      ]
    },
    {
      "cell_type": "markdown",
      "source": [
        "**Сохранение обученного агента**\n"
      ],
      "metadata": {
        "id": "k5ShUqviAAgR"
      }
    },
    {
      "cell_type": "code",
      "source": [
        "# Сохранение Q-таблицы в файл\n",
        "np.save(\"q_table.npy\", q_table)\n"
      ],
      "metadata": {
        "id": "TEIzGloGAkoO"
      },
      "execution_count": 35,
      "outputs": []
    },
    {
      "cell_type": "markdown",
      "source": [
        "Загрузка обученного агента"
      ],
      "metadata": {
        "id": "B2n0_m8bAvPN"
      }
    },
    {
      "cell_type": "code",
      "source": [
        "# Загрузка Q-таблицы из файла\n",
        "q_table_loaded = np.load(\"q_table.npy\")\n"
      ],
      "metadata": {
        "id": "CD1zxt4CAy4Q"
      },
      "execution_count": 38,
      "outputs": []
    },
    {
      "cell_type": "markdown",
      "source": [],
      "metadata": {
        "id": "14murKX_BDxp"
      }
    },
    {
      "cell_type": "markdown",
      "source": [
        "**Реализация алгоритма Cross-Entropy Method (CEM)**"
      ],
      "metadata": {
        "id": "7sza9wufTdKP"
      }
    },
    {
      "cell_type": "code",
      "source": [
        "# Установка необходимых пакетов\n",
        "!pip install gymnasium pygame --quiet\n"
      ],
      "metadata": {
        "colab": {
          "base_uri": "https://localhost:8080/"
        },
        "id": "4oQAtioiVL0p",
        "outputId": "b60dd004-c3e0-454e-a8fc-f1fcb0b280ab"
      },
      "execution_count": 2,
      "outputs": [
        {
          "output_type": "stream",
          "name": "stdout",
          "text": [
            "\u001b[?25l   \u001b[90m━━━━━━━━━━━━━━━━━━━━━━━━━━━━━━━━━━━━━━━━\u001b[0m \u001b[32m0.0/958.1 kB\u001b[0m \u001b[31m?\u001b[0m eta \u001b[36m-:--:--\u001b[0m\r\u001b[2K   \u001b[91m━━━━━━━\u001b[0m\u001b[91m╸\u001b[0m\u001b[90m━━━━━━━━━━━━━━━━━━━━━━━━━━━━━━━━\u001b[0m \u001b[32m184.3/958.1 kB\u001b[0m \u001b[31m5.3 MB/s\u001b[0m eta \u001b[36m0:00:01\u001b[0m\r\u001b[2K   \u001b[91m━━━━━━━━━━━━━━━━━━━━━━━━━━━━━\u001b[0m\u001b[90m╺\u001b[0m\u001b[90m━━━━━━━━━━\u001b[0m \u001b[32m696.3/958.1 kB\u001b[0m \u001b[31m11.3 MB/s\u001b[0m eta \u001b[36m0:00:01\u001b[0m\r\u001b[2K   \u001b[91m━━━━━━━━━━━━━━━━━━━━━━━━━━━━━━━━━━━━━━━\u001b[0m\u001b[91m╸\u001b[0m \u001b[32m952.3/958.1 kB\u001b[0m \u001b[31m11.1 MB/s\u001b[0m eta \u001b[36m0:00:01\u001b[0m\r\u001b[2K   \u001b[90m━━━━━━━━━━━━━━━━━━━━━━━━━━━━━━━━━━━━━━━━\u001b[0m \u001b[32m958.1/958.1 kB\u001b[0m \u001b[31m7.2 MB/s\u001b[0m eta \u001b[36m0:00:00\u001b[0m\n",
            "\u001b[?25h"
          ]
        }
      ]
    },
    {
      "cell_type": "code",
      "source": [
        "# Импортируем необходимые библиотеки\n",
        "import gymnasium as gym\n",
        "import numpy as np\n",
        "import random\n",
        "import matplotlib.pyplot as plt\n",
        "from tqdm import tqdm  # Для отображения прогресса\n",
        "from IPython.display import clear_output  # Для очистки вывода в Jupyter Notebook\n",
        "import time  # Для создания задержек в визуализации\n"
      ],
      "metadata": {
        "id": "sjNK6nqTTe2I"
      },
      "execution_count": 3,
      "outputs": []
    },
    {
      "cell_type": "markdown",
      "source": [
        "Основные шаги алгоритма CEM:\n",
        "\n",
        "Инициализация политики: Начинаем с некоторой случайной политики.\n",
        "Генерация траекторий: Используя текущую политику, генерируем множество эпизодов (траекторий).\n",
        "Оценка траекторий: Оцениваем каждую траекторию по суммарной награде.\n",
        "Отбор элитных траекторий: Выбираем лучшие траектории на основе некоторого квантиля (например, верхние 10%).\n",
        "Обновление политики: Обновляем политику на основе действий, совершенных в элитных траекториях.\n",
        "Повторение: Повторяем процесс до сходимости или достижения максимального количества итераций."
      ],
      "metadata": {
        "id": "U03PevNoVsXR"
      }
    },
    {
      "cell_type": "markdown",
      "source": [
        "Реализация алгоритма CEM"
      ],
      "metadata": {
        "id": "-VorOnN5WZbD"
      }
    },
    {
      "cell_type": "code",
      "source": [
        "# Создание среды Taxi-v3\n",
        "env = gym.make(\"Taxi-v3\")\n"
      ],
      "metadata": {
        "id": "qDQ39zJ6VssH"
      },
      "execution_count": 4,
      "outputs": []
    },
    {
      "cell_type": "markdown",
      "source": [
        " Определение класса агента CEM"
      ],
      "metadata": {
        "id": "TYyxISZUWoDV"
      }
    },
    {
      "cell_type": "code",
      "source": [
        "class CEMAgent:\n",
        "    \"\"\"\n",
        "    Агент на основе алгоритма Cross-Entropy Method.\n",
        "    \"\"\"\n",
        "\n",
        "    def __init__(self, state_space_size, action_space_size):\n",
        "        self.state_space_size = state_space_size\n",
        "        self.action_space_size = action_space_size\n",
        "        # Инициализация политики равномерным распределением\n",
        "        self.policy = np.ones((state_space_size, action_space_size)) / action_space_size\n",
        "\n",
        "    def get_action(self, state):\n",
        "        \"\"\"\n",
        "        Выбирает действие на основе текущей политики для заданного состояния.\n",
        "        \"\"\"\n",
        "        action_probabilities = self.policy[state]\n",
        "        action = np.random.choice(np.arange(self.action_space_size), p=action_probabilities)\n",
        "        return action\n",
        "\n",
        "    def update_policy(self, elite_trajectories):\n",
        "        \"\"\"\n",
        "        Обновляет политику на основе элитных траекторий.\n",
        "        \"\"\"\n",
        "        # Обнуление счетчиков\n",
        "        policy_update = np.zeros((self.state_space_size, self.action_space_size))\n",
        "\n",
        "        # Суммируем действия из элитных траекторий\n",
        "        for trajectory in elite_trajectories:\n",
        "            for state, action in zip(trajectory['states'], trajectory['actions']):\n",
        "                policy_update[state, action] += 1\n",
        "\n",
        "        # Нормализация для получения вероятностей\n",
        "        for state in range(self.state_space_size):\n",
        "            total = np.sum(policy_update[state])\n",
        "            if total > 0:\n",
        "                self.policy[state] = policy_update[state] / total\n",
        "            else:\n",
        "                # Если нет данных для состояния, оставляем равномерное распределение\n",
        "                self.policy[state] = np.ones(self.action_space_size) / self.action_space_size\n"
      ],
      "metadata": {
        "id": "x8DVR8BSWocG"
      },
      "execution_count": 5,
      "outputs": []
    },
    {
      "cell_type": "markdown",
      "source": [
        "Инициализация политики: Политика представляется в виде матрицы размером (число_состояний, число_действий), где каждый элемент — вероятность выбора действия в данном состоянии.\n",
        "Метод get_action: Возвращает действие на основе вероятностей в текущей политике.\n",
        "Метод update_policy: Обновляет политику на основе элитных траекторий, увеличивая вероятность действий, которые привели к высоким наградам."
      ],
      "metadata": {
        "id": "Lp0HZCSJXD3r"
      }
    },
    {
      "cell_type": "markdown",
      "source": [
        "**Функции для сбора траекторий и отбора элитных**"
      ],
      "metadata": {
        "id": "qWNxvTmJX0VB"
      }
    },
    {
      "cell_type": "code",
      "source": [
        "def generate_trajectories(env, agent, num_trajectories, max_steps):\n",
        "    \"\"\"\n",
        "    Генерирует заданное количество траекторий с использованием текущей политики агента.\n",
        "    \"\"\"\n",
        "    trajectories = []\n",
        "\n",
        "    for _ in range(num_trajectories):\n",
        "        trajectory = {'states': [], 'actions': [], 'total_reward': 0}\n",
        "        state, _ = env.reset()\n",
        "        done = False\n",
        "\n",
        "        for _ in range(max_steps):\n",
        "            action = agent.get_action(state)\n",
        "            next_state, reward, done, truncated, info = env.step(action)\n",
        "\n",
        "            # Сохраняем данные\n",
        "            trajectory['states'].append(state)\n",
        "            trajectory['actions'].append(action)\n",
        "            trajectory['total_reward'] += reward\n",
        "\n",
        "            state = next_state\n",
        "\n",
        "            if done or truncated:\n",
        "                break\n",
        "\n",
        "        trajectories.append(trajectory)\n",
        "\n",
        "    return trajectories\n",
        "\n",
        "def select_elite_trajectories(trajectories, percentile):\n",
        "    \"\"\"\n",
        "    Отбирает элитные траектории на основе заданного процентиля суммарных наград.\n",
        "    \"\"\"\n",
        "    rewards = [trajectory['total_reward'] for trajectory in trajectories]\n",
        "    reward_threshold = np.percentile(rewards, percentile)\n",
        "\n",
        "    elite_trajectories = [trajectory for trajectory in trajectories if trajectory['total_reward'] >= reward_threshold]\n",
        "    return elite_trajectories\n"
      ],
      "metadata": {
        "id": "A1kx1fefX4Qn"
      },
      "execution_count": 6,
      "outputs": []
    },
    {
      "cell_type": "markdown",
      "source": [
        "Функция generate_trajectories: Генерирует траектории, используя текущую политику агента.\n",
        "Функция select_elite_trajectories: Отбирает траектории, суммарная награда которых выше заданного процентиля."
      ],
      "metadata": {
        "id": "SeAsdP5YYIhc"
      }
    },
    {
      "cell_type": "markdown",
      "source": [
        "Основной цикл обучения CEM"
      ],
      "metadata": {
        "id": "M00PEDzpYPxx"
      }
    },
    {
      "cell_type": "code",
      "source": [
        "# Гиперпараметры алгоритма CEM\n",
        "num_iterations = 100       # Количество итераций обучения\n",
        "num_trajectories = 500     # Количество траекторий в каждой итерации\n",
        "max_steps_per_episode = 100  # Максимальное количество шагов в эпизоде\n",
        "elite_percentile = 90      # Процентиль для отбора элитных траекторий\n",
        "\n",
        "# Инициализация агента\n",
        "state_space_size = env.observation_space.n\n",
        "action_space_size = env.action_space.n\n",
        "agent = CEMAgent(state_space_size, action_space_size)\n",
        "\n",
        "# Для хранения средней награды\n",
        "mean_rewards = []\n",
        "\n",
        "# Основной цикл обучения\n",
        "for iteration in tqdm(range(num_iterations)):\n",
        "    # Генерируем траектории\n",
        "    trajectories = generate_trajectories(env, agent, num_trajectories, max_steps_per_episode)\n",
        "\n",
        "    # Отбираем элитные траектории\n",
        "    elite_trajectories = select_elite_trajectories(trajectories, elite_percentile)\n",
        "\n",
        "    # Обновляем политику на основе элитных траекторий\n",
        "    agent.update_policy(elite_trajectories)\n",
        "\n",
        "    # Сохраняем среднюю награду для визуализации\n",
        "    mean_reward = np.mean([trajectory['total_reward'] for trajectory in trajectories])\n",
        "    mean_rewards.append(mean_reward)\n",
        "\n",
        "    # Выводим информацию\n",
        "    if (iteration + 1) % 10 == 0:\n",
        "        print(f\"Итерация {iteration + 1}: средняя награда = {mean_reward:.2f}\")\n"
      ],
      "metadata": {
        "colab": {
          "base_uri": "https://localhost:8080/"
        },
        "id": "uZij5u2uYQwO",
        "outputId": "c0b43a08-1e61-4be4-bfd4-7a5932731a77"
      },
      "execution_count": 7,
      "outputs": [
        {
          "output_type": "stream",
          "name": "stderr",
          "text": [
            " 10%|█         | 10/100 [00:28<04:02,  2.70s/it]"
          ]
        },
        {
          "output_type": "stream",
          "name": "stdout",
          "text": [
            "Итерация 10: средняя награда = -296.71\n"
          ]
        },
        {
          "output_type": "stream",
          "name": "stderr",
          "text": [
            " 20%|██        | 20/100 [00:55<03:34,  2.69s/it]"
          ]
        },
        {
          "output_type": "stream",
          "name": "stdout",
          "text": [
            "Итерация 20: средняя награда = -310.54\n"
          ]
        },
        {
          "output_type": "stream",
          "name": "stderr",
          "text": [
            " 30%|███       | 30/100 [01:20<03:05,  2.65s/it]"
          ]
        },
        {
          "output_type": "stream",
          "name": "stdout",
          "text": [
            "Итерация 30: средняя награда = -287.58\n"
          ]
        },
        {
          "output_type": "stream",
          "name": "stderr",
          "text": [
            " 40%|████      | 40/100 [01:45<02:34,  2.58s/it]"
          ]
        },
        {
          "output_type": "stream",
          "name": "stdout",
          "text": [
            "Итерация 40: средняя награда = -325.46\n"
          ]
        },
        {
          "output_type": "stream",
          "name": "stderr",
          "text": [
            " 50%|█████     | 50/100 [02:11<02:13,  2.67s/it]"
          ]
        },
        {
          "output_type": "stream",
          "name": "stdout",
          "text": [
            "Итерация 50: средняя награда = -315.61\n"
          ]
        },
        {
          "output_type": "stream",
          "name": "stderr",
          "text": [
            " 60%|██████    | 60/100 [02:36<01:43,  2.58s/it]"
          ]
        },
        {
          "output_type": "stream",
          "name": "stdout",
          "text": [
            "Итерация 60: средняя награда = -309.60\n"
          ]
        },
        {
          "output_type": "stream",
          "name": "stderr",
          "text": [
            " 70%|███████   | 70/100 [03:01<01:18,  2.63s/it]"
          ]
        },
        {
          "output_type": "stream",
          "name": "stdout",
          "text": [
            "Итерация 70: средняя награда = -311.05\n"
          ]
        },
        {
          "output_type": "stream",
          "name": "stderr",
          "text": [
            " 80%|████████  | 80/100 [03:26<00:52,  2.60s/it]"
          ]
        },
        {
          "output_type": "stream",
          "name": "stdout",
          "text": [
            "Итерация 80: средняя награда = -305.33\n"
          ]
        },
        {
          "output_type": "stream",
          "name": "stderr",
          "text": [
            " 90%|█████████ | 90/100 [03:52<00:26,  2.66s/it]"
          ]
        },
        {
          "output_type": "stream",
          "name": "stdout",
          "text": [
            "Итерация 90: средняя награда = -318.07\n"
          ]
        },
        {
          "output_type": "stream",
          "name": "stderr",
          "text": [
            "100%|██████████| 100/100 [04:17<00:00,  2.58s/it]"
          ]
        },
        {
          "output_type": "stream",
          "name": "stdout",
          "text": [
            "Итерация 100: средняя награда = -331.56\n"
          ]
        },
        {
          "output_type": "stream",
          "name": "stderr",
          "text": [
            "\n"
          ]
        }
      ]
    },
    {
      "cell_type": "code",
      "source": [
        "# Построение графика средней награды\n",
        "plt.plot(mean_rewards)\n",
        "plt.xlabel('Итерация')\n",
        "plt.ylabel('Средняя суммарная награда')\n",
        "plt.title('Динамика обучения алгоритма Cross-Entropy Method')\n",
        "plt.show()\n"
      ],
      "metadata": {
        "colab": {
          "base_uri": "https://localhost:8080/",
          "height": 472
        },
        "id": "Cq8kTwZiZrxK",
        "outputId": "5dd972c5-7c00-43e7-c5a2-c40e6d12431b"
      },
      "execution_count": 8,
      "outputs": [
        {
          "output_type": "display_data",
          "data": {
            "text/plain": [
              "<Figure size 640x480 with 1 Axes>"
            ],
            "image/png": "[encoded data removed]"
          },
          "metadata": {}
        }
      ]
    },
    {
      "cell_type": "code",
      "source": [
        "def plot_learning_curve(iterations, mean_rewards):\n",
        "    plt.figure(figsize=(10, 6))\n",
        "    plt.plot(iterations, mean_rewards, label='Средняя награда')\n",
        "    plt.xlabel('Итерация')\n",
        "    plt.ylabel('Средняя суммарная награда')\n",
        "    plt.title('Кривая обучения агента CEM')\n",
        "    plt.legend()\n",
        "    plt.grid(True)\n",
        "    plt.show()\n"
      ],
      "metadata": {
        "id": "GCMXIj1dZ2YU"
      },
      "execution_count": 9,
      "outputs": []
    },
    {
      "cell_type": "code",
      "source": [
        "iterations = list(range(1, num_iterations + 1))\n",
        "plot_learning_curve(iterations, mean_rewards)\n"
      ],
      "metadata": {
        "colab": {
          "base_uri": "https://localhost:8080/",
          "height": 564
        },
        "id": "ibovXJzdZ41z",
        "outputId": "979d2266-b509-47b7-e6f5-fff7b344bd5e"
      },
      "execution_count": 10,
      "outputs": [
        {
          "output_type": "display_data",
          "data": {
            "text/plain": [
              "<Figure size 1000x600 with 1 Axes>"
            ],
            "image/png": "[encoded data removed]"
          },
          "metadata": {}
        }
      ]
    },
    {
      "cell_type": "markdown",
      "source": [],
      "metadata": {
        "id": "U3ZbZUKra1WU"
      }
    },
    {
      "cell_type": "markdown",
      "source": [],
      "metadata": {
        "id": "ocxx0uS-a0_C"
      }
    },
    {
      "cell_type": "code",
      "source": [],
      "metadata": {
        "id": "nEdOoIkIa1to"
      },
      "execution_count": null,
      "outputs": []
    },
    {
      "cell_type": "code",
      "source": [
        "# Гиперпараметры алгоритма CEM\n",
        "num_iterations = 500       # Количество итераций обучения\n",
        "num_trajectories = 1000     # Количество траекторий в каждой итерации\n",
        "max_steps_per_episode = 200  # Максимальное количество шагов в эпизоде\n",
        "elite_percentile = 70      # Процентиль для отбора элитных траекторий\n",
        "\n",
        "# Инициализация агента\n",
        "state_space_size = env.observation_space.n\n",
        "action_space_size = env.action_space.n\n",
        "agent = CEMAgent(state_space_size, action_space_size)\n",
        "\n",
        "# Для хранения средней награды\n",
        "mean_rewards = []\n",
        "\n",
        "# Основной цикл обучения\n",
        "for iteration in tqdm(range(num_iterations)):\n",
        "    # Генерируем траектории\n",
        "    trajectories = generate_trajectories(env, agent, num_trajectories, max_steps_per_episode)\n",
        "\n",
        "    # Отбираем элитные траектории\n",
        "    elite_trajectories = select_elite_trajectories(trajectories, elite_percentile)\n",
        "\n",
        "    # Обновляем политику на основе элитных траекторий\n",
        "    agent.update_policy(elite_trajectories)\n",
        "\n",
        "    # Сохраняем среднюю награду для визуализации\n",
        "    mean_reward = np.mean([trajectory['total_reward'] for trajectory in trajectories])\n",
        "    mean_rewards.append(mean_reward)\n",
        "\n",
        "    # Выводим информацию\n",
        "    if (iteration + 1) % 10 == 0:\n",
        "        print(f\"Итерация {iteration + 1}: средняя награда = {mean_reward:.2f}\")\n"
      ],
      "metadata": {
        "colab": {
          "base_uri": "https://localhost:8080/"
        },
        "outputId": "523586ea-1942-4653-d1f3-7b47a7815570",
        "id": "L4qGzCyia1_f"
      },
      "execution_count": 11,
      "outputs": [
        {
          "output_type": "stream",
          "name": "stderr",
          "text": [
            "  2%|▏         | 10/500 [00:54<20:18,  2.49s/it]"
          ]
        },
        {
          "output_type": "stream",
          "name": "stdout",
          "text": [
            "Итерация 10: средняя награда = -19.50\n"
          ]
        },
        {
          "output_type": "stream",
          "name": "stderr",
          "text": [
            "  4%|▍         | 20/500 [01:24<27:09,  3.39s/it]"
          ]
        },
        {
          "output_type": "stream",
          "name": "stdout",
          "text": [
            "Итерация 20: средняя награда = -169.84\n"
          ]
        },
        {
          "output_type": "stream",
          "name": "stderr",
          "text": [
            "  6%|▌         | 30/500 [01:58<27:11,  3.47s/it]"
          ]
        },
        {
          "output_type": "stream",
          "name": "stdout",
          "text": [
            "Итерация 30: средняя награда = -190.77\n"
          ]
        },
        {
          "output_type": "stream",
          "name": "stderr",
          "text": [
            "  8%|▊         | 40/500 [02:33<26:30,  3.46s/it]"
          ]
        },
        {
          "output_type": "stream",
          "name": "stdout",
          "text": [
            "Итерация 40: средняя награда = -182.59\n"
          ]
        },
        {
          "output_type": "stream",
          "name": "stderr",
          "text": [
            " 10%|█         | 50/500 [03:09<27:00,  3.60s/it]"
          ]
        },
        {
          "output_type": "stream",
          "name": "stdout",
          "text": [
            "Итерация 50: средняя награда = -181.91\n"
          ]
        },
        {
          "output_type": "stream",
          "name": "stderr",
          "text": [
            " 12%|█▏        | 60/500 [03:41<23:26,  3.20s/it]"
          ]
        },
        {
          "output_type": "stream",
          "name": "stdout",
          "text": [
            "Итерация 60: средняя награда = -135.67\n"
          ]
        },
        {
          "output_type": "stream",
          "name": "stderr",
          "text": [
            " 14%|█▍        | 70/500 [04:16<24:00,  3.35s/it]"
          ]
        },
        {
          "output_type": "stream",
          "name": "stdout",
          "text": [
            "Итерация 70: средняя награда = -178.37\n"
          ]
        },
        {
          "output_type": "stream",
          "name": "stderr",
          "text": [
            " 16%|█▌        | 80/500 [04:51<23:59,  3.43s/it]"
          ]
        },
        {
          "output_type": "stream",
          "name": "stdout",
          "text": [
            "Итерация 80: средняя награда = -180.85\n"
          ]
        },
        {
          "output_type": "stream",
          "name": "stderr",
          "text": [
            " 18%|█▊        | 90/500 [05:24<22:35,  3.31s/it]"
          ]
        },
        {
          "output_type": "stream",
          "name": "stdout",
          "text": [
            "Итерация 90: средняя награда = -169.74\n"
          ]
        },
        {
          "output_type": "stream",
          "name": "stderr",
          "text": [
            " 20%|██        | 100/500 [05:58<22:12,  3.33s/it]"
          ]
        },
        {
          "output_type": "stream",
          "name": "stdout",
          "text": [
            "Итерация 100: средняя награда = -170.28\n"
          ]
        },
        {
          "output_type": "stream",
          "name": "stderr",
          "text": [
            " 22%|██▏       | 110/500 [06:31<21:29,  3.31s/it]"
          ]
        },
        {
          "output_type": "stream",
          "name": "stdout",
          "text": [
            "Итерация 110: средняя награда = -167.28\n"
          ]
        },
        {
          "output_type": "stream",
          "name": "stderr",
          "text": [
            " 24%|██▍       | 120/500 [07:06<22:22,  3.53s/it]"
          ]
        },
        {
          "output_type": "stream",
          "name": "stdout",
          "text": [
            "Итерация 120: средняя награда = -187.74\n"
          ]
        },
        {
          "output_type": "stream",
          "name": "stderr",
          "text": [
            " 26%|██▌       | 130/500 [07:40<21:50,  3.54s/it]"
          ]
        },
        {
          "output_type": "stream",
          "name": "stdout",
          "text": [
            "Итерация 130: средняя награда = -191.23\n"
          ]
        },
        {
          "output_type": "stream",
          "name": "stderr",
          "text": [
            " 28%|██▊       | 140/500 [08:16<21:10,  3.53s/it]"
          ]
        },
        {
          "output_type": "stream",
          "name": "stdout",
          "text": [
            "Итерация 140: средняя награда = -178.47\n"
          ]
        },
        {
          "output_type": "stream",
          "name": "stderr",
          "text": [
            " 30%|███       | 150/500 [08:51<20:13,  3.47s/it]"
          ]
        },
        {
          "output_type": "stream",
          "name": "stdout",
          "text": [
            "Итерация 150: средняя награда = -168.62\n"
          ]
        },
        {
          "output_type": "stream",
          "name": "stderr",
          "text": [
            " 32%|███▏      | 160/500 [09:25<19:25,  3.43s/it]"
          ]
        },
        {
          "output_type": "stream",
          "name": "stdout",
          "text": [
            "Итерация 160: средняя награда = -168.85\n"
          ]
        },
        {
          "output_type": "stream",
          "name": "stderr",
          "text": [
            " 34%|███▍      | 170/500 [09:59<18:38,  3.39s/it]"
          ]
        },
        {
          "output_type": "stream",
          "name": "stdout",
          "text": [
            "Итерация 170: средняя награда = -171.70\n"
          ]
        },
        {
          "output_type": "stream",
          "name": "stderr",
          "text": [
            " 36%|███▌      | 180/500 [10:33<18:18,  3.43s/it]"
          ]
        },
        {
          "output_type": "stream",
          "name": "stdout",
          "text": [
            "Итерация 180: средняя награда = -193.20\n"
          ]
        },
        {
          "output_type": "stream",
          "name": "stderr",
          "text": [
            " 38%|███▊      | 190/500 [11:08<17:59,  3.48s/it]"
          ]
        },
        {
          "output_type": "stream",
          "name": "stdout",
          "text": [
            "Итерация 190: средняя награда = -165.24\n"
          ]
        },
        {
          "output_type": "stream",
          "name": "stderr",
          "text": [
            " 40%|████      | 200/500 [11:43<18:32,  3.71s/it]"
          ]
        },
        {
          "output_type": "stream",
          "name": "stdout",
          "text": [
            "Итерация 200: средняя награда = -183.11\n"
          ]
        },
        {
          "output_type": "stream",
          "name": "stderr",
          "text": [
            " 42%|████▏     | 210/500 [12:18<16:46,  3.47s/it]"
          ]
        },
        {
          "output_type": "stream",
          "name": "stdout",
          "text": [
            "Итерация 210: средняя награда = -173.29\n"
          ]
        },
        {
          "output_type": "stream",
          "name": "stderr",
          "text": [
            " 44%|████▍     | 220/500 [12:53<16:01,  3.43s/it]"
          ]
        },
        {
          "output_type": "stream",
          "name": "stdout",
          "text": [
            "Итерация 220: средняя награда = -169.10\n"
          ]
        },
        {
          "output_type": "stream",
          "name": "stderr",
          "text": [
            " 46%|████▌     | 230/500 [13:27<14:51,  3.30s/it]"
          ]
        },
        {
          "output_type": "stream",
          "name": "stdout",
          "text": [
            "Итерация 230: средняя награда = -153.00\n"
          ]
        },
        {
          "output_type": "stream",
          "name": "stderr",
          "text": [
            " 48%|████▊     | 240/500 [14:02<15:14,  3.52s/it]"
          ]
        },
        {
          "output_type": "stream",
          "name": "stdout",
          "text": [
            "Итерация 240: средняя награда = -169.21\n"
          ]
        },
        {
          "output_type": "stream",
          "name": "stderr",
          "text": [
            " 50%|█████     | 250/500 [14:36<13:56,  3.35s/it]"
          ]
        },
        {
          "output_type": "stream",
          "name": "stdout",
          "text": [
            "Итерация 250: средняя награда = -174.47\n"
          ]
        },
        {
          "output_type": "stream",
          "name": "stderr",
          "text": [
            " 52%|█████▏    | 260/500 [15:10<13:22,  3.34s/it]"
          ]
        },
        {
          "output_type": "stream",
          "name": "stdout",
          "text": [
            "Итерация 260: средняя награда = -173.14\n"
          ]
        },
        {
          "output_type": "stream",
          "name": "stderr",
          "text": [
            " 54%|█████▍    | 270/500 [15:45<13:50,  3.61s/it]"
          ]
        },
        {
          "output_type": "stream",
          "name": "stdout",
          "text": [
            "Итерация 270: средняя награда = -189.96\n"
          ]
        },
        {
          "output_type": "stream",
          "name": "stderr",
          "text": [
            " 56%|█████▌    | 280/500 [16:19<12:44,  3.48s/it]"
          ]
        },
        {
          "output_type": "stream",
          "name": "stdout",
          "text": [
            "Итерация 280: средняя награда = -171.25\n"
          ]
        },
        {
          "output_type": "stream",
          "name": "stderr",
          "text": [
            " 58%|█████▊    | 290/500 [16:54<11:55,  3.41s/it]"
          ]
        },
        {
          "output_type": "stream",
          "name": "stdout",
          "text": [
            "Итерация 290: средняя награда = -174.63\n"
          ]
        },
        {
          "output_type": "stream",
          "name": "stderr",
          "text": [
            " 60%|██████    | 300/500 [17:30<11:44,  3.52s/it]"
          ]
        },
        {
          "output_type": "stream",
          "name": "stdout",
          "text": [
            "Итерация 300: средняя награда = -176.37\n"
          ]
        },
        {
          "output_type": "stream",
          "name": "stderr",
          "text": [
            " 62%|██████▏   | 310/500 [18:05<11:29,  3.63s/it]"
          ]
        },
        {
          "output_type": "stream",
          "name": "stdout",
          "text": [
            "Итерация 310: средняя награда = -196.17\n"
          ]
        },
        {
          "output_type": "stream",
          "name": "stderr",
          "text": [
            " 64%|██████▍   | 320/500 [18:40<10:39,  3.55s/it]"
          ]
        },
        {
          "output_type": "stream",
          "name": "stdout",
          "text": [
            "Итерация 320: средняя награда = -172.12\n"
          ]
        },
        {
          "output_type": "stream",
          "name": "stderr",
          "text": [
            " 66%|██████▌   | 330/500 [19:15<09:59,  3.53s/it]"
          ]
        },
        {
          "output_type": "stream",
          "name": "stdout",
          "text": [
            "Итерация 330: средняя награда = -187.92\n"
          ]
        },
        {
          "output_type": "stream",
          "name": "stderr",
          "text": [
            " 68%|██████▊   | 340/500 [19:49<08:58,  3.37s/it]"
          ]
        },
        {
          "output_type": "stream",
          "name": "stdout",
          "text": [
            "Итерация 340: средняя награда = -171.79\n"
          ]
        },
        {
          "output_type": "stream",
          "name": "stderr",
          "text": [
            " 70%|███████   | 350/500 [20:24<08:47,  3.52s/it]"
          ]
        },
        {
          "output_type": "stream",
          "name": "stdout",
          "text": [
            "Итерация 350: средняя награда = -169.06\n"
          ]
        },
        {
          "output_type": "stream",
          "name": "stderr",
          "text": [
            " 72%|███████▏  | 360/500 [21:00<08:28,  3.64s/it]"
          ]
        },
        {
          "output_type": "stream",
          "name": "stdout",
          "text": [
            "Итерация 360: средняя награда = -186.31\n"
          ]
        },
        {
          "output_type": "stream",
          "name": "stderr",
          "text": [
            " 74%|███████▍  | 370/500 [21:35<07:40,  3.54s/it]"
          ]
        },
        {
          "output_type": "stream",
          "name": "stdout",
          "text": [
            "Итерация 370: средняя награда = -174.08\n"
          ]
        },
        {
          "output_type": "stream",
          "name": "stderr",
          "text": [
            " 76%|███████▌  | 380/500 [22:09<06:45,  3.38s/it]"
          ]
        },
        {
          "output_type": "stream",
          "name": "stdout",
          "text": [
            "Итерация 380: средняя награда = -170.85\n"
          ]
        },
        {
          "output_type": "stream",
          "name": "stderr",
          "text": [
            " 78%|███████▊  | 390/500 [22:44<06:27,  3.53s/it]"
          ]
        },
        {
          "output_type": "stream",
          "name": "stdout",
          "text": [
            "Итерация 390: средняя награда = -175.40\n"
          ]
        },
        {
          "output_type": "stream",
          "name": "stderr",
          "text": [
            " 80%|████████  | 400/500 [23:20<06:06,  3.66s/it]"
          ]
        },
        {
          "output_type": "stream",
          "name": "stdout",
          "text": [
            "Итерация 400: средняя награда = -174.93\n"
          ]
        },
        {
          "output_type": "stream",
          "name": "stderr",
          "text": [
            " 82%|████████▏ | 410/500 [23:56<05:23,  3.59s/it]"
          ]
        },
        {
          "output_type": "stream",
          "name": "stdout",
          "text": [
            "Итерация 410: средняя награда = -163.58\n"
          ]
        },
        {
          "output_type": "stream",
          "name": "stderr",
          "text": [
            " 84%|████████▍ | 420/500 [24:30<04:38,  3.48s/it]"
          ]
        },
        {
          "output_type": "stream",
          "name": "stdout",
          "text": [
            "Итерация 420: средняя награда = -178.75\n"
          ]
        },
        {
          "output_type": "stream",
          "name": "stderr",
          "text": [
            " 86%|████████▌ | 430/500 [25:05<03:58,  3.41s/it]"
          ]
        },
        {
          "output_type": "stream",
          "name": "stdout",
          "text": [
            "Итерация 430: средняя награда = -171.01\n"
          ]
        },
        {
          "output_type": "stream",
          "name": "stderr",
          "text": [
            " 88%|████████▊ | 440/500 [25:40<03:28,  3.47s/it]"
          ]
        },
        {
          "output_type": "stream",
          "name": "stdout",
          "text": [
            "Итерация 440: средняя награда = -156.09\n"
          ]
        },
        {
          "output_type": "stream",
          "name": "stderr",
          "text": [
            " 90%|█████████ | 450/500 [26:15<03:01,  3.62s/it]"
          ]
        },
        {
          "output_type": "stream",
          "name": "stdout",
          "text": [
            "Итерация 450: средняя награда = -194.87\n"
          ]
        },
        {
          "output_type": "stream",
          "name": "stderr",
          "text": [
            " 92%|█████████▏| 460/500 [26:50<02:18,  3.46s/it]"
          ]
        },
        {
          "output_type": "stream",
          "name": "stdout",
          "text": [
            "Итерация 460: средняя награда = -158.33\n"
          ]
        },
        {
          "output_type": "stream",
          "name": "stderr",
          "text": [
            " 94%|█████████▍| 470/500 [27:25<01:43,  3.46s/it]"
          ]
        },
        {
          "output_type": "stream",
          "name": "stdout",
          "text": [
            "Итерация 470: средняя награда = -174.54\n"
          ]
        },
        {
          "output_type": "stream",
          "name": "stderr",
          "text": [
            " 96%|█████████▌| 480/500 [28:00<01:09,  3.50s/it]"
          ]
        },
        {
          "output_type": "stream",
          "name": "stdout",
          "text": [
            "Итерация 480: средняя награда = -173.25\n"
          ]
        },
        {
          "output_type": "stream",
          "name": "stderr",
          "text": [
            " 98%|█████████▊| 490/500 [28:36<00:36,  3.69s/it]"
          ]
        },
        {
          "output_type": "stream",
          "name": "stdout",
          "text": [
            "Итерация 490: средняя награда = -200.03\n"
          ]
        },
        {
          "output_type": "stream",
          "name": "stderr",
          "text": [
            "100%|██████████| 500/500 [29:12<00:00,  3.50s/it]"
          ]
        },
        {
          "output_type": "stream",
          "name": "stdout",
          "text": [
            "Итерация 500: средняя награда = -182.51\n"
          ]
        },
        {
          "output_type": "stream",
          "name": "stderr",
          "text": [
            "\n"
          ]
        }
      ]
    }
  ]
}